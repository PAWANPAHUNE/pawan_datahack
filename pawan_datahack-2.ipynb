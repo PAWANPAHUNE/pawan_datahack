{
 "cells": [
  {
   "cell_type": "code",
   "execution_count": 393,
   "id": "d6b865da-58ab-44e9-a096-abf82392efa8",
   "metadata": {},
   "outputs": [
    {
     "name": "stderr",
     "output_type": "stream",
     "text": [
      "/var/folders/__/nfc53gb10nj0kwxgcx8h1qn00000gn/T/ipykernel_96737/3154237435.py:35: FutureWarning: Downcasting behavior in `replace` is deprecated and will be removed in a future version. To retain the old behavior, explicitly call `result.infer_objects(copy=False)`. To opt-in to the future behavior, set `pd.set_option('future.no_silent_downcasting', True)`\n",
      "  df_x.replace(categorical_replacements, inplace=True)\n",
      "/var/folders/__/nfc53gb10nj0kwxgcx8h1qn00000gn/T/ipykernel_96737/3154237435.py:36: FutureWarning: Downcasting behavior in `replace` is deprecated and will be removed in a future version. To retain the old behavior, explicitly call `result.infer_objects(copy=False)`. To opt-in to the future behavior, set `pd.set_option('future.no_silent_downcasting', True)`\n",
      "  df_test.replace(categorical_replacements, inplace=True)\n"
     ]
    },
    {
     "name": "stdout",
     "output_type": "stream",
     "text": [
      "Predicted probabilities for xyz_vaccine: [0.2  0.05 0.45 ... 0.26 0.18 0.41]\n",
      "Predicted probabilities for seasonal_vaccine: [0.17 0.05 0.71 ... 0.36 0.41 0.53]\n",
      "Submission file created successfully.\n"
     ]
    },
    {
     "data": {
      "text/plain": [
       "Index(['respondent_id', 'xyz_concern', 'xyz_knowledge',\n",
       "       'behavioral_antiviral_meds', 'behavioral_avoidance',\n",
       "       'behavioral_face_mask', 'behavioral_wash_hands',\n",
       "       'behavioral_large_gatherings', 'behavioral_outside_home',\n",
       "       'behavioral_touch_face', 'doctor_recc_xyz', 'doctor_recc_seasonal',\n",
       "       'chronic_med_condition', 'child_under_6_months', 'health_worker',\n",
       "       'health_insurance', 'opinion_xyz_vacc_effective', 'opinion_xyz_risk',\n",
       "       'opinion_xyz_sick_from_vacc', 'opinion_seas_vacc_effective',\n",
       "       'opinion_seas_risk', 'opinion_seas_sick_from_vacc', 'age_group',\n",
       "       'education', 'race', 'sex', 'income_poverty', 'marital_status',\n",
       "       'rent_or_own', 'household_adults', 'household_children'],\n",
       "      dtype='object')"
      ]
     },
     "execution_count": 393,
     "metadata": {},
     "output_type": "execute_result"
    }
   ],
   "source": [
    "import pandas as pd\n",
    "from sklearn.model_selection import train_test_split\n",
    "from sklearn.preprocessing import OneHotEncoder, StandardScaler\n",
    "from sklearn.compose import ColumnTransformer\n",
    "from sklearn.pipeline import Pipeline\n",
    "from sklearn.ensemble import RandomForestClassifier\n",
    "from sklearn.multioutput import MultiOutputClassifier\n",
    "from sklearn.metrics import roc_auc_score\n",
    "\n",
    "# Load datasets\n",
    "df_x = pd.read_csv('training_set_features.csv')\n",
    "df_y = pd.read_csv('training_set_labels.csv')\n",
    "df_test = pd.read_csv('test_set_features.csv')\n",
    "\n",
    "# Fill missing values with the mode for test and train datasets\n",
    "df_x = df_x.fillna(df_x.mode().iloc[0])\n",
    "df_test = df_test.fillna(df_test.mode().iloc[0])\n",
    "\n",
    "# Drop unnecessary columns\n",
    "columns_to_drop = ['employment_industry', 'employment_status', 'hhs_geo_region', 'census_msa', 'employment_occupation']\n",
    "df_x = df_x.drop(columns=columns_to_drop)\n",
    "df_test = df_test.drop(columns=columns_to_drop)\n",
    "\n",
    "# Replace categorical data with numerical codes\n",
    "categorical_replacements = {\n",
    "    'education': {'< 12 Years': 0, '12 Years': 1, 'Some College': 2, 'College Graduate': 3},\n",
    "    'race': {'White': 0, 'Black': 1, 'Hispanic': 2, 'Other or Multiple': 3},\n",
    "    'sex': {'Male': 0, 'Female': 1},\n",
    "    'marital_status': {'Married': 0, 'Not Married': 1},\n",
    "    'rent_or_own': {'Own': 0, 'Rent': 1},\n",
    "    'age_group': {'65+ Years': 0, '55 - 64 Years': 1, '45 - 54 Years': 2, '18 - 34 Years': 3, '35 - 44 Years': 4},\n",
    "    'income_poverty': {'<= $75,000, Above Poverty': 0, '> $75,000': 1, 'Below Poverty': 2}\n",
    "}\n",
    "\n",
    "df_x.replace(categorical_replacements, inplace=True)\n",
    "df_test.replace(categorical_replacements, inplace=True)\n",
    "\n",
    "# Define the features and target\n",
    "X_train = df_x\n",
    "y_train = df_y[['xyz_vaccine', 'seasonal_vaccine']]  # Ensure you have the correct target columns\n",
    "\n",
    "# Define categorical and numerical columns\n",
    "categorical_cols = X_train.select_dtypes(include=['object']).columns.tolist()\n",
    "numerical_cols = X_train.select_dtypes(include=['int64', 'float64']).columns.tolist()\n",
    "\n",
    "# Preprocess the data\n",
    "preprocessor = ColumnTransformer(\n",
    "    transformers=[\n",
    "        ('num', StandardScaler(), numerical_cols),\n",
    "        ('cat', OneHotEncoder(handle_unknown='ignore'), categorical_cols)\n",
    "    ])\n",
    "\n",
    "# Define the model\n",
    "model = Pipeline(steps=[\n",
    "    ('preprocessor', preprocessor),\n",
    "    ('classifier', MultiOutputClassifier(RandomForestClassifier(n_estimators=100, random_state=42)))\n",
    "])\n",
    "\n",
    "# Train the model\n",
    "model.fit(X_train, y_train)\n",
    "\n",
    "# Predict probabilities\n",
    "y_pred_proba = model.predict_proba(df_test)\n",
    "\n",
    "# Convert predictions to probabilities for each target variable\n",
    "y_pred_proba_xyz = y_pred_proba[0][:, 1]\n",
    "y_pred_proba_seasonal = y_pred_proba[1][:, 1]\n",
    "\n",
    "# Print the predictions\n",
    "print(\"Predicted probabilities for xyz_vaccine:\", y_pred_proba_xyz)\n",
    "print(\"Predicted probabilities for seasonal_vaccine:\", y_pred_proba_seasonal)\n",
    "\n",
    "# Create the submission DataFrame\n",
    "submission = pd.DataFrame({\n",
    "    'respondent_id': df_test['respondent_id'],\n",
    "    'xyz_vaccine': y_pred_proba_xyz,\n",
    "    'seasonal_vaccine': y_pred_proba_seasonal\n",
    "})\n",
    "\n",
    "# Save the submission DataFrame to a CSV file\n",
    "submission.to_csv('submission_format.csv', index=False)\n",
    "\n",
    "print(\"Submission file created successfully.\")\n",
    "\n",
    "\n",
    "df_x.columns\n"
   ]
  },
  {
   "cell_type": "code",
   "execution_count": null,
   "id": "798b6883-d591-4501-b47b-e75f48789110",
   "metadata": {},
   "outputs": [],
   "source": []
  }
 ],
 "metadata": {
  "kernelspec": {
   "display_name": "Python 3 (ipykernel)",
   "language": "python",
   "name": "python3"
  },
  "language_info": {
   "codemirror_mode": {
    "name": "ipython",
    "version": 3
   },
   "file_extension": ".py",
   "mimetype": "text/x-python",
   "name": "python",
   "nbconvert_exporter": "python",
   "pygments_lexer": "ipython3",
   "version": "3.12.2"
  }
 },
 "nbformat": 4,
 "nbformat_minor": 5
}
